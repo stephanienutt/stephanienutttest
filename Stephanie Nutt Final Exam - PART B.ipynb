{
 "cells": [
  {
   "cell_type": "markdown",
   "metadata": {},
   "source": [
    "# MC316 Final Exam – Part B: PYTHON"
   ]
  },
  {
   "cell_type": "markdown",
   "metadata": {},
   "source": [
    "* You will have 1 hour and 40 minutes to finish the test.\n",
    "* This part includes 10 questions. Each question is worth 15 points.\n",
    "* You get extra 30 points for full answers.\n",
    "* Please read the instructions carefully. "
   ]
  },
  {
   "cell_type": "markdown",
   "metadata": {},
   "source": [
    "## I. SET UP\n"
   ]
  },
  {
   "cell_type": "markdown",
   "metadata": {},
   "source": [
    "### Import pandas library for use in scripting. "
   ]
  },
  {
   "cell_type": "code",
   "execution_count": 128,
   "metadata": {},
   "outputs": [],
   "source": [
    "import pandas as pd"
   ]
  },
  {
   "cell_type": "markdown",
   "metadata": {},
   "source": [
    "### Import the datasets and name them.\n",
    "For this test, you will analyze revenue and expenditure data released by Kansas Department of Administration for the fiscal year 2018. While the original data can be directly downloaded [here](http://kanview.ks.gov/DataDownload.aspx), for your convenience, the instructor had them uploaded to a server at the following urls. \n",
    "\n",
    "#### For Kansas State University:\n",
    "1. Expenditure data: https://datajournalism.tech/wp-content/uploads/2019/05/ExpData_367_2018.csv\n",
    "2. Revenue data: https://datajournalism.tech/wp-content/uploads/2019/05/RevData_367_2018.csv\n",
    "\n",
    "#### For University of Kansas:\n",
    "3. Expenditure data: https://datajournalism.tech/wp-content/uploads/2019/05/ExpData_682_2018.csv\n",
    "4. Revenue data: https://datajournalism.tech/wp-content/uploads/2019/05/RevData_682_2018.csv\n",
    "\n",
    "You will need to import all 4 datasets and name them in an easy way to call out later.\n",
    "\n",
    "*Please refer to the [Glossary](http://kanview.ks.gov/Glossary.aspx#f) for data description."
   ]
  },
  {
   "cell_type": "code",
   "execution_count": 129,
   "metadata": {},
   "outputs": [],
   "source": [
    "ksuex = pd.read_csv(\"https://datajournalism.tech/wp-content/uploads/2019/05/ExpData_367_2018.csv\")"
   ]
  },
  {
   "cell_type": "code",
   "execution_count": 130,
   "metadata": {},
   "outputs": [
    {
     "name": "stdout",
     "output_type": "stream",
     "text": [
      "<class 'pandas.core.frame.DataFrame'>\n",
      "RangeIndex: 24094 entries, 0 to 24093\n",
      "Data columns (total 22 columns):\n",
      "Fiscal_Year                        24094 non-null int64\n",
      "Fiscal_Quarter                     24094 non-null int64\n",
      "Business_Unit                      24094 non-null int64\n",
      "Business_Unit_Descr                24094 non-null object\n",
      "GAAP_Fund_Type                     24094 non-null int64\n",
      "GAAP_Fund_Type_Descr               24094 non-null object\n",
      "Fund_Code                          24094 non-null int64\n",
      "Fund_Code_Descr                    24094 non-null object\n",
      "Budget_Ref                         24094 non-null int64\n",
      "Budget_Ref_Descr                   24094 non-null object\n",
      "Program_Code                       24094 non-null int64\n",
      "Program_Code_Descr                 24094 non-null object\n",
      "State_Function                     24094 non-null int64\n",
      "State_Function_Descr               24094 non-null object\n",
      "Primary_Account_Code               24094 non-null int64\n",
      "Primary_Account_Code_Descr         24094 non-null object\n",
      "Intermediate_Account_Code          24094 non-null int64\n",
      "Intermediate_Account_Code_Descr    24094 non-null object\n",
      "Detail_Account_Code                24094 non-null int64\n",
      "Detail_Account_Code_Descr          24094 non-null object\n",
      "Total                              24094 non-null float64\n",
      "Unnamed: 21                        0 non-null float64\n",
      "dtypes: float64(2), int64(11), object(9)\n",
      "memory usage: 4.0+ MB\n"
     ]
    }
   ],
   "source": [
    "ksuex.info()"
   ]
  },
  {
   "cell_type": "code",
   "execution_count": 131,
   "metadata": {},
   "outputs": [],
   "source": [
    "ksurev = pd.read_csv(\"https://datajournalism.tech/wp-content/uploads/2019/05/RevData_367_2018.csv\")"
   ]
  },
  {
   "cell_type": "code",
   "execution_count": 132,
   "metadata": {},
   "outputs": [
    {
     "name": "stdout",
     "output_type": "stream",
     "text": [
      "<class 'pandas.core.frame.DataFrame'>\n",
      "RangeIndex: 1910 entries, 0 to 1909\n",
      "Data columns (total 22 columns):\n",
      "Fiscal_Year                        1910 non-null int64\n",
      "Fiscal_Quarter                     1910 non-null int64\n",
      "Business_Unit                      1910 non-null int64\n",
      "Business_Unit_Descr                1910 non-null object\n",
      "GAAP_Fund_Type                     1910 non-null int64\n",
      "GAAP_Fund_Type_Descr               1910 non-null object\n",
      "Fund_Code                          1910 non-null int64\n",
      "Fund_Code_Descr                    1910 non-null object\n",
      "Budget_Ref                         1910 non-null int64\n",
      "Budget_Ref_Descr                   1910 non-null object\n",
      "Program_Code                       1910 non-null int64\n",
      "Program_Code_Descr                 1910 non-null object\n",
      "State_Function                     1910 non-null int64\n",
      "State_Function_Descr               1910 non-null object\n",
      "Primary_Account_Code               1910 non-null int64\n",
      "Primary_Account_Code_Descr         1910 non-null object\n",
      "Intermediate_Account_Code          1910 non-null int64\n",
      "Intermediate_Account_Code_Descr    1910 non-null object\n",
      "Detail_Account_Code                1910 non-null int64\n",
      "Detail_Account_Code_Descr          1910 non-null object\n",
      "Total                              1910 non-null float64\n",
      "Unnamed: 21                        0 non-null float64\n",
      "dtypes: float64(2), int64(11), object(9)\n",
      "memory usage: 328.4+ KB\n"
     ]
    }
   ],
   "source": [
    "ksurev.info()"
   ]
  },
  {
   "cell_type": "code",
   "execution_count": 133,
   "metadata": {},
   "outputs": [],
   "source": [
    "kuex = pd.read_csv(\"https://datajournalism.tech/wp-content/uploads/2019/05/ExpData_682_2018.csv\")"
   ]
  },
  {
   "cell_type": "code",
   "execution_count": 134,
   "metadata": {},
   "outputs": [
    {
     "name": "stdout",
     "output_type": "stream",
     "text": [
      "<class 'pandas.core.frame.DataFrame'>\n",
      "RangeIndex: 10553 entries, 0 to 10552\n",
      "Data columns (total 22 columns):\n",
      "Fiscal_Year                        10553 non-null int64\n",
      "Fiscal_Quarter                     10553 non-null int64\n",
      "Business_Unit                      10553 non-null int64\n",
      "Business_Unit_Descr                10553 non-null object\n",
      "GAAP_Fund_Type                     10553 non-null int64\n",
      "GAAP_Fund_Type_Descr               10553 non-null object\n",
      "Fund_Code                          10553 non-null int64\n",
      "Fund_Code_Descr                    10553 non-null object\n",
      "Budget_Ref                         10553 non-null int64\n",
      "Budget_Ref_Descr                   10553 non-null object\n",
      "Program_Code                       10553 non-null int64\n",
      "Program_Code_Descr                 10553 non-null object\n",
      "State_Function                     10553 non-null int64\n",
      "State_Function_Descr               10553 non-null object\n",
      "Primary_Account_Code               10553 non-null int64\n",
      "Primary_Account_Code_Descr         10553 non-null object\n",
      "Intermediate_Account_Code          10553 non-null int64\n",
      "Intermediate_Account_Code_Descr    10553 non-null object\n",
      "Detail_Account_Code                10553 non-null int64\n",
      "Detail_Account_Code_Descr          10553 non-null object\n",
      "Total                              10553 non-null float64\n",
      "Unnamed: 21                        0 non-null float64\n",
      "dtypes: float64(2), int64(11), object(9)\n",
      "memory usage: 1.8+ MB\n"
     ]
    }
   ],
   "source": [
    "kuex.info()"
   ]
  },
  {
   "cell_type": "code",
   "execution_count": 135,
   "metadata": {},
   "outputs": [],
   "source": [
    "kurev = pd.read_csv(\"https://datajournalism.tech/wp-content/uploads/2019/05/RevData_682_2018.csv\")"
   ]
  },
  {
   "cell_type": "code",
   "execution_count": 136,
   "metadata": {},
   "outputs": [
    {
     "name": "stdout",
     "output_type": "stream",
     "text": [
      "<class 'pandas.core.frame.DataFrame'>\n",
      "RangeIndex: 1077 entries, 0 to 1076\n",
      "Data columns (total 22 columns):\n",
      "Fiscal_Year                        1077 non-null int64\n",
      "Fiscal_Quarter                     1077 non-null int64\n",
      "Business_Unit                      1077 non-null int64\n",
      "Business_Unit_Descr                1077 non-null object\n",
      "GAAP_Fund_Type                     1077 non-null int64\n",
      "GAAP_Fund_Type_Descr               1077 non-null object\n",
      "Fund_Code                          1077 non-null int64\n",
      "Fund_Code_Descr                    1077 non-null object\n",
      "Budget_Ref                         1077 non-null int64\n",
      "Budget_Ref_Descr                   1077 non-null object\n",
      "Program_Code                       1077 non-null int64\n",
      "Program_Code_Descr                 1077 non-null object\n",
      "State_Function                     1077 non-null int64\n",
      "State_Function_Descr               1077 non-null object\n",
      "Primary_Account_Code               1077 non-null int64\n",
      "Primary_Account_Code_Descr         1077 non-null object\n",
      "Intermediate_Account_Code          1077 non-null int64\n",
      "Intermediate_Account_Code_Descr    1077 non-null object\n",
      "Detail_Account_Code                1077 non-null int64\n",
      "Detail_Account_Code_Descr          1077 non-null object\n",
      "Total                              1077 non-null float64\n",
      "Unnamed: 21                        0 non-null float64\n",
      "dtypes: float64(2), int64(11), object(9)\n",
      "memory usage: 185.2+ KB\n"
     ]
    }
   ],
   "source": [
    "kurev.info()"
   ]
  },
  {
   "cell_type": "markdown",
   "metadata": {},
   "source": [
    "## II. REQUIRED QUESTIONS\n",
    "* Make sure you type the answers in the cells right below the codes.\n",
    "* If you need to add extra cells, click the + button in the toolbar up the top. "
   ]
  },
  {
   "cell_type": "markdown",
   "metadata": {},
   "source": [
    "### Q1: What is the total revenue recorded for Kansas State University in the fiscal year of 2018? How does it compare to the total revenue recorded for University of Kansas in the same year?"
   ]
  },
  {
   "cell_type": "code",
   "execution_count": 137,
   "metadata": {},
   "outputs": [
    {
     "data": {
      "text/plain": [
       "854324643.84"
      ]
     },
     "execution_count": 137,
     "metadata": {},
     "output_type": "execute_result"
    }
   ],
   "source": [
    "ksurev.Total.sum()"
   ]
  },
  {
   "cell_type": "code",
   "execution_count": 138,
   "metadata": {},
   "outputs": [
    {
     "data": {
      "text/plain": [
       "808767902.55"
      ]
     },
     "execution_count": 138,
     "metadata": {},
     "output_type": "execute_result"
    }
   ],
   "source": [
    "kurev.Total.sum()"
   ]
  },
  {
   "cell_type": "markdown",
   "metadata": {},
   "source": [
    "<b>Answer:</b> The total revenue recorded for Kansas State University in the fiscal year of 2018 was 854,324,643.84. It is greater than the total revenue recorded for the University of Kansas in the same year which was 808,767,902.55."
   ]
  },
  {
   "cell_type": "markdown",
   "metadata": {},
   "source": [
    "### Q2: What is the total expense recorded for Kansas State University in the fiscal year of 2018? How does it compare to the total expense recorded for University of Kansas in the same year?"
   ]
  },
  {
   "cell_type": "code",
   "execution_count": 139,
   "metadata": {},
   "outputs": [
    {
     "data": {
      "text/plain": [
       "1018584373.02"
      ]
     },
     "execution_count": 139,
     "metadata": {},
     "output_type": "execute_result"
    }
   ],
   "source": [
    "ksuex.Total.sum()"
   ]
  },
  {
   "cell_type": "code",
   "execution_count": 140,
   "metadata": {},
   "outputs": [
    {
     "data": {
      "text/plain": [
       "990238875.6099999"
      ]
     },
     "execution_count": 140,
     "metadata": {},
     "output_type": "execute_result"
    }
   ],
   "source": [
    "kuex.Total.sum()"
   ]
  },
  {
   "cell_type": "markdown",
   "metadata": {},
   "source": [
    "<b>Answer:</b> The total expense recorded for Kansas State Univeristy in the fiscal year of 2018 was 1,018,584,373.02. It is greater than the total expense recorded for the University of Kansas in the same year which was 990,238,875.61"
   ]
  },
  {
   "cell_type": "markdown",
   "metadata": {},
   "source": [
    "### Q3: Where did the two universities' primary revenues come from? \n",
    "*Refer to the description [here](http://kanview.ks.gov/Revenues/AcctCodeRevenues.aspx) to write your answer."
   ]
  },
  {
   "cell_type": "code",
   "execution_count": 141,
   "metadata": {},
   "outputs": [
    {
     "data": {
      "text/plain": [
       "AGENCY EARNINGS                   637\n",
       "REV FROM USE OF MONEY & PROP      354\n",
       "REVENUE TRANSFERS                 341\n",
       "NON REVENUE RECEIPTS              259\n",
       "OTHER REVENUE                     160\n",
       "GIFT DONATION FEDERAL GRANTS      152\n",
       "TAXES                               7\n",
       "Name: Primary_Account_Code_Descr, dtype: int64"
      ]
     },
     "execution_count": 141,
     "metadata": {},
     "output_type": "execute_result"
    }
   ],
   "source": [
    "ksurev.Primary_Account_Code_Descr.value_counts()"
   ]
  },
  {
   "cell_type": "code",
   "execution_count": 142,
   "metadata": {},
   "outputs": [
    {
     "data": {
      "text/plain": [
       "AGENCY EARNINGS                   376\n",
       "REV FROM USE OF MONEY & PROP      251\n",
       "NON REVENUE RECEIPTS              157\n",
       "REVENUE TRANSFERS                 153\n",
       "OTHER REVENUE                      57\n",
       "TAXES                              45\n",
       "GIFT DONATION FEDERAL GRANTS       38\n",
       "Name: Primary_Account_Code_Descr, dtype: int64"
      ]
     },
     "execution_count": 142,
     "metadata": {},
     "output_type": "execute_result"
    }
   ],
   "source": [
    "kurev.Primary_Account_Code_Descr.value_counts()"
   ]
  },
  {
   "cell_type": "markdown",
   "metadata": {},
   "source": [
    "<b>Answer:</b> The two universities' primary revenues came from agency earnings."
   ]
  },
  {
   "cell_type": "markdown",
   "metadata": {},
   "source": [
    "### Q4: What was the biggest source of revenues for Kansas State University? Compare to the one of University of Kansas."
   ]
  },
  {
   "cell_type": "markdown",
   "metadata": {},
   "source": [
    "Remove hashtag and run the following code to suppress scientific notation:"
   ]
  },
  {
   "cell_type": "code",
   "execution_count": 143,
   "metadata": {},
   "outputs": [],
   "source": [
    "pd.set_option('display.float_format', lambda x: '%.3f' % x) "
   ]
  },
  {
   "cell_type": "code",
   "execution_count": 144,
   "metadata": {},
   "outputs": [
    {
     "data": {
      "text/plain": [
       "Primary_Account_Code_Descr\n",
       "AGENCY EARNINGS                  412565112.820\n",
       "GIFT DONATION FEDERAL GRANTS     278778848.030\n",
       "NON REVENUE RECEIPTS              71947564.050\n",
       "OTHER REVENUE                      8432030.160\n",
       "REV FROM USE OF MONEY & PROP      34139318.040\n",
       "REVENUE TRANSFERS                 48458616.490\n",
       "TAXES                                 3154.250\n",
       "Name: Total, dtype: float64"
      ]
     },
     "execution_count": 144,
     "metadata": {},
     "output_type": "execute_result"
    }
   ],
   "source": [
    "ksurev.groupby(\"Primary_Account_Code_Descr\").Total.sum()"
   ]
  },
  {
   "cell_type": "code",
   "execution_count": 145,
   "metadata": {},
   "outputs": [
    {
     "data": {
      "text/plain": [
       "Primary_Account_Code_Descr\n",
       "AGENCY EARNINGS                  408409337.320\n",
       "GIFT DONATION FEDERAL GRANTS     193836668.320\n",
       "NON REVENUE RECEIPTS              69753247.670\n",
       "OTHER REVENUE                     68241930.500\n",
       "REV FROM USE OF MONEY & PROP      40950779.540\n",
       "REVENUE TRANSFERS                 26013855.400\n",
       "TAXES                              1562083.800\n",
       "Name: Total, dtype: float64"
      ]
     },
     "execution_count": 145,
     "metadata": {},
     "output_type": "execute_result"
    }
   ],
   "source": [
    "kurev.groupby(\"Primary_Account_Code_Descr\").Total.sum()"
   ]
  },
  {
   "cell_type": "markdown",
   "metadata": {},
   "source": [
    "<b>Answer:</b> The biggest source of revenues for Kansas State Univerisity was Agency Earnings, with 412,565,112.82. The University of Kansas also had Agency Earnings for their biggest source of earnings with 408,409,337.32"
   ]
  },
  {
   "cell_type": "markdown",
   "metadata": {},
   "source": [
    "### Q5: What accounts contributed to Kansas State University's biggest source of revenues?\n",
    "If you run into a situation where a filter function returns 0 results, you may want to check if there are leading and trailing spaces in the column. To clean the leading and trailing spaces, you will need to remove the hashtag, revise the names, and run the following code:"
   ]
  },
  {
   "cell_type": "code",
   "execution_count": 146,
   "metadata": {},
   "outputs": [],
   "source": [
    "ksurev['Primary_Account_Code_Descr'] = ksurev['Primary_Account_Code_Descr'].str.strip()"
   ]
  },
  {
   "cell_type": "markdown",
   "metadata": {},
   "source": [
    "After cleaning the spaces, you can start filtering your datasets to find the answer for Q5."
   ]
  },
  {
   "cell_type": "code",
   "execution_count": 147,
   "metadata": {},
   "outputs": [],
   "source": [
    "ksurev1 = ksurev[ksurev.Primary_Account_Code_Descr == \"AGENCY EARNINGS\"]"
   ]
  },
  {
   "cell_type": "code",
   "execution_count": 152,
   "metadata": {
    "scrolled": true
   },
   "outputs": [
    {
     "data": {
      "text/html": [
       "<div>\n",
       "<style scoped>\n",
       "    .dataframe tbody tr th:only-of-type {\n",
       "        vertical-align: middle;\n",
       "    }\n",
       "\n",
       "    .dataframe tbody tr th {\n",
       "        vertical-align: top;\n",
       "    }\n",
       "\n",
       "    .dataframe thead th {\n",
       "        text-align: right;\n",
       "    }\n",
       "</style>\n",
       "<table border=\"1\" class=\"dataframe\">\n",
       "  <thead>\n",
       "    <tr style=\"text-align: right;\">\n",
       "      <th></th>\n",
       "      <th>Fiscal_Year</th>\n",
       "      <th>Fiscal_Quarter</th>\n",
       "      <th>Business_Unit</th>\n",
       "      <th>Business_Unit_Descr</th>\n",
       "      <th>GAAP_Fund_Type</th>\n",
       "      <th>GAAP_Fund_Type_Descr</th>\n",
       "      <th>Fund_Code</th>\n",
       "      <th>Fund_Code_Descr</th>\n",
       "      <th>Budget_Ref</th>\n",
       "      <th>Budget_Ref_Descr</th>\n",
       "      <th>...</th>\n",
       "      <th>State_Function</th>\n",
       "      <th>State_Function_Descr</th>\n",
       "      <th>Primary_Account_Code</th>\n",
       "      <th>Primary_Account_Code_Descr</th>\n",
       "      <th>Intermediate_Account_Code</th>\n",
       "      <th>Intermediate_Account_Code_Descr</th>\n",
       "      <th>Detail_Account_Code</th>\n",
       "      <th>Detail_Account_Code_Descr</th>\n",
       "      <th>Total</th>\n",
       "      <th>Unnamed: 21</th>\n",
       "    </tr>\n",
       "  </thead>\n",
       "  <tbody>\n",
       "    <tr>\n",
       "      <th>2</th>\n",
       "      <td>2018</td>\n",
       "      <td>1</td>\n",
       "      <td>367</td>\n",
       "      <td>Kansas State University</td>\n",
       "      <td>12</td>\n",
       "      <td>Component Unit</td>\n",
       "      <td>2062</td>\n",
       "      <td>GENERAL FF</td>\n",
       "      <td>2000</td>\n",
       "      <td>GENERAL FF                                    ...</td>\n",
       "      <td>...</td>\n",
       "      <td>26</td>\n",
       "      <td>Universities                                  ...</td>\n",
       "      <td>4200</td>\n",
       "      <td>AGENCY EARNINGS</td>\n",
       "      <td>42000</td>\n",
       "      <td>SERVICE CHARGES</td>\n",
       "      <td>420500</td>\n",
       "      <td>EDUCATION AND LIBRARIES</td>\n",
       "      <td>91090183.660</td>\n",
       "      <td>nan</td>\n",
       "    </tr>\n",
       "    <tr>\n",
       "      <th>7</th>\n",
       "      <td>2018</td>\n",
       "      <td>1</td>\n",
       "      <td>367</td>\n",
       "      <td>Kansas State University</td>\n",
       "      <td>12</td>\n",
       "      <td>Component Unit</td>\n",
       "      <td>2062</td>\n",
       "      <td>GENERAL FF</td>\n",
       "      <td>2000</td>\n",
       "      <td>GENERAL FF                                    ...</td>\n",
       "      <td>...</td>\n",
       "      <td>26</td>\n",
       "      <td>Universities                                  ...</td>\n",
       "      <td>4200</td>\n",
       "      <td>AGENCY EARNINGS</td>\n",
       "      <td>42000</td>\n",
       "      <td>SERVICE CHARGES</td>\n",
       "      <td>420500</td>\n",
       "      <td>EDUCATION AND LIBRARIES</td>\n",
       "      <td>3260669.860</td>\n",
       "      <td>nan</td>\n",
       "    </tr>\n",
       "    <tr>\n",
       "      <th>8</th>\n",
       "      <td>2018</td>\n",
       "      <td>1</td>\n",
       "      <td>367</td>\n",
       "      <td>Kansas State University</td>\n",
       "      <td>12</td>\n",
       "      <td>Component Unit</td>\n",
       "      <td>2129</td>\n",
       "      <td>GENERAL FF</td>\n",
       "      <td>5500</td>\n",
       "      <td>GENERAL FF                                    ...</td>\n",
       "      <td>...</td>\n",
       "      <td>26</td>\n",
       "      <td>Universities                                  ...</td>\n",
       "      <td>4200</td>\n",
       "      <td>AGENCY EARNINGS</td>\n",
       "      <td>42000</td>\n",
       "      <td>SERVICE CHARGES</td>\n",
       "      <td>420500</td>\n",
       "      <td>EDUCATION AND LIBRARIES</td>\n",
       "      <td>7959879.110</td>\n",
       "      <td>nan</td>\n",
       "    </tr>\n",
       "    <tr>\n",
       "      <th>12</th>\n",
       "      <td>2018</td>\n",
       "      <td>1</td>\n",
       "      <td>367</td>\n",
       "      <td>Kansas State University</td>\n",
       "      <td>12</td>\n",
       "      <td>Component Unit</td>\n",
       "      <td>2154</td>\n",
       "      <td>KAN-GROW ENGINEERING FUND-KSU</td>\n",
       "      <td>2154</td>\n",
       "      <td>KAN-GROW ENGINEERING FUND-KSU                 ...</td>\n",
       "      <td>...</td>\n",
       "      <td>26</td>\n",
       "      <td>Universities                                  ...</td>\n",
       "      <td>4200</td>\n",
       "      <td>AGENCY EARNINGS</td>\n",
       "      <td>42000</td>\n",
       "      <td>SERVICE CHARGES</td>\n",
       "      <td>420200</td>\n",
       "      <td>TECHNICAL AND SKILLED SERVICES</td>\n",
       "      <td>3150000.000</td>\n",
       "      <td>nan</td>\n",
       "    </tr>\n",
       "    <tr>\n",
       "      <th>13</th>\n",
       "      <td>2018</td>\n",
       "      <td>1</td>\n",
       "      <td>367</td>\n",
       "      <td>Kansas State University</td>\n",
       "      <td>12</td>\n",
       "      <td>Component Unit</td>\n",
       "      <td>2263</td>\n",
       "      <td>FERTILIZER RESEARCH FD</td>\n",
       "      <td>1150</td>\n",
       "      <td>FERTILIZER RESEARCH FD                        ...</td>\n",
       "      <td>...</td>\n",
       "      <td>26</td>\n",
       "      <td>Universities                                  ...</td>\n",
       "      <td>4200</td>\n",
       "      <td>AGENCY EARNINGS</td>\n",
       "      <td>42000</td>\n",
       "      <td>SERVICE CHARGES</td>\n",
       "      <td>420100</td>\n",
       "      <td>AUDITS AND INSPECTIONS</td>\n",
       "      <td>56932.070</td>\n",
       "      <td>nan</td>\n",
       "    </tr>\n",
       "  </tbody>\n",
       "</table>\n",
       "<p>5 rows × 22 columns</p>\n",
       "</div>"
      ],
      "text/plain": [
       "    Fiscal_Year  Fiscal_Quarter  Business_Unit  \\\n",
       "2          2018               1            367   \n",
       "7          2018               1            367   \n",
       "8          2018               1            367   \n",
       "12         2018               1            367   \n",
       "13         2018               1            367   \n",
       "\n",
       "               Business_Unit_Descr  GAAP_Fund_Type  \\\n",
       "2   Kansas State University                     12   \n",
       "7   Kansas State University                     12   \n",
       "8   Kansas State University                     12   \n",
       "12  Kansas State University                     12   \n",
       "13  Kansas State University                     12   \n",
       "\n",
       "              GAAP_Fund_Type_Descr  Fund_Code                 Fund_Code_Descr  \\\n",
       "2   Component Unit                       2062  GENERAL FF                       \n",
       "7   Component Unit                       2062  GENERAL FF                       \n",
       "8   Component Unit                       2129  GENERAL FF                       \n",
       "12  Component Unit                       2154  KAN-GROW ENGINEERING FUND-KSU    \n",
       "13  Component Unit                       2263  FERTILIZER RESEARCH FD           \n",
       "\n",
       "    Budget_Ref                                   Budget_Ref_Descr  ...  \\\n",
       "2         2000  GENERAL FF                                    ...  ...   \n",
       "7         2000  GENERAL FF                                    ...  ...   \n",
       "8         5500  GENERAL FF                                    ...  ...   \n",
       "12        2154  KAN-GROW ENGINEERING FUND-KSU                 ...  ...   \n",
       "13        1150  FERTILIZER RESEARCH FD                        ...  ...   \n",
       "\n",
       "    State_Function                               State_Function_Descr  \\\n",
       "2               26  Universities                                  ...   \n",
       "7               26  Universities                                  ...   \n",
       "8               26  Universities                                  ...   \n",
       "12              26  Universities                                  ...   \n",
       "13              26  Universities                                  ...   \n",
       "\n",
       "    Primary_Account_Code Primary_Account_Code_Descr  \\\n",
       "2                   4200            AGENCY EARNINGS   \n",
       "7                   4200            AGENCY EARNINGS   \n",
       "8                   4200            AGENCY EARNINGS   \n",
       "12                  4200            AGENCY EARNINGS   \n",
       "13                  4200            AGENCY EARNINGS   \n",
       "\n",
       "    Intermediate_Account_Code Intermediate_Account_Code_Descr  \\\n",
       "2                       42000  SERVICE CHARGES                  \n",
       "7                       42000  SERVICE CHARGES                  \n",
       "8                       42000  SERVICE CHARGES                  \n",
       "12                      42000  SERVICE CHARGES                  \n",
       "13                      42000  SERVICE CHARGES                  \n",
       "\n",
       "    Detail_Account_Code       Detail_Account_Code_Descr        Total  \\\n",
       "2                420500  EDUCATION AND LIBRARIES        91090183.660   \n",
       "7                420500  EDUCATION AND LIBRARIES         3260669.860   \n",
       "8                420500  EDUCATION AND LIBRARIES         7959879.110   \n",
       "12               420200  TECHNICAL AND SKILLED SERVICES  3150000.000   \n",
       "13               420100  AUDITS AND INSPECTIONS            56932.070   \n",
       "\n",
       "   Unnamed: 21  \n",
       "2          nan  \n",
       "7          nan  \n",
       "8          nan  \n",
       "12         nan  \n",
       "13         nan  \n",
       "\n",
       "[5 rows x 22 columns]"
      ]
     },
     "execution_count": 152,
     "metadata": {},
     "output_type": "execute_result"
    }
   ],
   "source": [
    "ksurev1.head()"
   ]
  },
  {
   "cell_type": "code",
   "execution_count": 122,
   "metadata": {},
   "outputs": [
    {
     "name": "stdout",
     "output_type": "stream",
     "text": [
      "<class 'pandas.core.frame.DataFrame'>\n",
      "Int64Index: 376 entries, 0 to 1076\n",
      "Data columns (total 22 columns):\n",
      "Fiscal_Year                        0 non-null float64\n",
      "Fiscal_Quarter                     0 non-null float64\n",
      "Business_Unit                      0 non-null float64\n",
      "Business_Unit_Descr                0 non-null object\n",
      "GAAP_Fund_Type                     0 non-null float64\n",
      "GAAP_Fund_Type_Descr               0 non-null object\n",
      "Fund_Code                          0 non-null float64\n",
      "Fund_Code_Descr                    0 non-null object\n",
      "Budget_Ref                         0 non-null float64\n",
      "Budget_Ref_Descr                   0 non-null object\n",
      "Program_Code                       0 non-null float64\n",
      "Program_Code_Descr                 0 non-null object\n",
      "State_Function                     0 non-null float64\n",
      "State_Function_Descr               0 non-null object\n",
      "Primary_Account_Code               0 non-null float64\n",
      "Primary_Account_Code_Descr         376 non-null object\n",
      "Intermediate_Account_Code          0 non-null float64\n",
      "Intermediate_Account_Code_Descr    0 non-null object\n",
      "Detail_Account_Code                0 non-null float64\n",
      "Detail_Account_Code_Descr          0 non-null object\n",
      "Total                              0 non-null float64\n",
      "Unnamed: 21                        0 non-null float64\n",
      "dtypes: float64(13), object(9)\n",
      "memory usage: 67.6+ KB\n"
     ]
    }
   ],
   "source": [
    "ksurev.info()"
   ]
  },
  {
   "cell_type": "markdown",
   "metadata": {},
   "source": [
    "<b>Answer:</b> Education and libraries, technical and skilled services and audits and inspections are the accounts that contributed to Kansas State University's biggest source of revenues."
   ]
  },
  {
   "cell_type": "markdown",
   "metadata": {},
   "source": [
    "### Q6: Where did the money go? (Answer for both universities)\n",
    "*Refer to the description [here] (http://kanview.ks.gov/Expenditures/AcctCodeExpenditures.aspx) to write your answer."
   ]
  },
  {
   "cell_type": "code",
   "execution_count": 159,
   "metadata": {},
   "outputs": [
    {
     "data": {
      "text/plain": [
       "CONTRACTUAL SERVICES              10561\n",
       "SALARIES AND WAGES                 7780\n",
       "COMMODITIES                        3740\n",
       "CAPITAL OUTLAY                     1173\n",
       "GRANTS CLAIMS SHARED REVENUE        534\n",
       "NONEXPENSE ITEMS                    129\n",
       "EXPENSE TRANSFERS                   106\n",
       "DEBT SERVICE                         71\n",
       "Name: Primary_Account_Code_Descr, dtype: int64"
      ]
     },
     "execution_count": 159,
     "metadata": {},
     "output_type": "execute_result"
    }
   ],
   "source": [
    "ksuex.Primary_Account_Code_Descr.value_counts()"
   ]
  },
  {
   "cell_type": "code",
   "execution_count": 160,
   "metadata": {},
   "outputs": [
    {
     "data": {
      "text/plain": [
       "CONTRACTUAL SERVICES              4322\n",
       "SALARIES AND WAGES                3623\n",
       "COMMODITIES                       1605\n",
       "CAPITAL OUTLAY                     737\n",
       "NONEXPENSE ITEMS                    81\n",
       "GRANTS CLAIMS SHARED REVENUE        75\n",
       "EXPENSE TRANSFERS                   66\n",
       "DEBT SERVICE                        44\n",
       "Name: Primary_Account_Code_Descr, dtype: int64"
      ]
     },
     "execution_count": 160,
     "metadata": {},
     "output_type": "execute_result"
    }
   ],
   "source": [
    "kuex.Primary_Account_Code_Descr.value_counts()"
   ]
  },
  {
   "cell_type": "markdown",
   "metadata": {},
   "source": [
    "<b>Answer:</b> The money went to contractual services for both universities."
   ]
  },
  {
   "cell_type": "markdown",
   "metadata": {},
   "source": [
    "### Q7: What costs two universities the most? "
   ]
  },
  {
   "cell_type": "code",
   "execution_count": 161,
   "metadata": {},
   "outputs": [
    {
     "data": {
      "text/plain": [
       "Primary_Account_Code_Descr\n",
       "CAPITAL OUTLAY                    64350550.130\n",
       "COMMODITIES                       42670908.840\n",
       "CONTRACTUAL SERVICES             128541598.280\n",
       "DEBT SERVICE                      32442445.100\n",
       "EXPENSE TRANSFERS                 37130576.230\n",
       "GRANTS CLAIMS SHARED REVENUE     106551248.640\n",
       "NONEXPENSE ITEMS                 130529992.790\n",
       "SALARIES AND WAGES               476367053.010\n",
       "Name: Total, dtype: float64"
      ]
     },
     "execution_count": 161,
     "metadata": {},
     "output_type": "execute_result"
    }
   ],
   "source": [
    "ksuex.groupby(\"Primary_Account_Code_Descr\").Total.sum()"
   ]
  },
  {
   "cell_type": "code",
   "execution_count": 163,
   "metadata": {},
   "outputs": [
    {
     "data": {
      "text/plain": [
       "Primary_Account_Code_Descr\n",
       "CAPITAL OUTLAY                    70676545.250\n",
       "COMMODITIES                       24225857.120\n",
       "CONTRACTUAL SERVICES             139630507.780\n",
       "DEBT SERVICE                      25309742.030\n",
       "EXPENSE TRANSFERS                 25815417.520\n",
       "GRANTS CLAIMS SHARED REVENUE      71439705.360\n",
       "NONEXPENSE ITEMS                 161145084.400\n",
       "SALARIES AND WAGES               471996016.150\n",
       "Name: Total, dtype: float64"
      ]
     },
     "execution_count": 163,
     "metadata": {},
     "output_type": "execute_result"
    }
   ],
   "source": [
    "kuex.groupby(\"Primary_Account_Code_Descr\").Total.sum()"
   ]
  },
  {
   "cell_type": "markdown",
   "metadata": {},
   "source": [
    "<b>Answer:</b> Salaries and wages cost both universities the most."
   ]
  },
  {
   "cell_type": "markdown",
   "metadata": {},
   "source": [
    "### Q8: Calculate the percentage of this cost over each university's total expense."
   ]
  },
  {
   "cell_type": "code",
   "execution_count": 174,
   "metadata": {},
   "outputs": [
    {
     "data": {
      "text/plain": [
       "0.4676755952946929"
      ]
     },
     "execution_count": 174,
     "metadata": {},
     "output_type": "execute_result"
    }
   ],
   "source": [
    "476367053.010/(64350550.130+42670908.840+128541598.280+32442445.100+37130576.230+106551248.640+130529992.790+476367053.010)"
   ]
  },
  {
   "cell_type": "code",
   "execution_count": null,
   "metadata": {},
   "outputs": [],
   "source": [
    "476367053.010/1018584373.02"
   ]
  },
  {
   "cell_type": "code",
   "execution_count": 173,
   "metadata": {},
   "outputs": [
    {
     "data": {
      "text/plain": [
       "0.4766486428431163"
      ]
     },
     "execution_count": 173,
     "metadata": {},
     "output_type": "execute_result"
    }
   ],
   "source": [
    "471996016.150/(70676545.250+24225857.120+139630507.780+25309742.030+25815417.520+71439705.360+161145084.400+471996016.150)"
   ]
  },
  {
   "cell_type": "code",
   "execution_count": 175,
   "metadata": {},
   "outputs": [
    {
     "data": {
      "text/plain": [
       "0.47664864284311637"
      ]
     },
     "execution_count": 175,
     "metadata": {},
     "output_type": "execute_result"
    }
   ],
   "source": [
    "471996016.150/990238875.6099999"
   ]
  },
  {
   "cell_type": "markdown",
   "metadata": {},
   "source": [
    "<b>Answer:</b> 47% for K-State and 48% for KU"
   ]
  },
  {
   "cell_type": "markdown",
   "metadata": {},
   "source": [
    "### Q9: Breakdown the cost you found in Q7 for both universities.\n",
    "Again, if you run into a situation where a filter function returns 0 results, you may want to check if there are leading and trailing spaces in the column. To clean the leading and trailing spaces, you will need to remove the hashtag, revise the names, and run the following code:"
   ]
  },
  {
   "cell_type": "code",
   "execution_count": 191,
   "metadata": {},
   "outputs": [],
   "source": [
    "ksuex[\"Primary_Account_Code_Descr\"] = ksuex[\"Primary_Account_Code_Descr\"].str.strip()"
   ]
  },
  {
   "cell_type": "code",
   "execution_count": 192,
   "metadata": {},
   "outputs": [],
   "source": [
    "ksuex1 = ksuex[ksuex.Primary_Account_Code_Descr == \"SALARIES AND WAGES\"]"
   ]
  },
  {
   "cell_type": "code",
   "execution_count": 197,
   "metadata": {},
   "outputs": [
    {
     "data": {
      "text/html": [
       "<div>\n",
       "<style scoped>\n",
       "    .dataframe tbody tr th:only-of-type {\n",
       "        vertical-align: middle;\n",
       "    }\n",
       "\n",
       "    .dataframe tbody tr th {\n",
       "        vertical-align: top;\n",
       "    }\n",
       "\n",
       "    .dataframe thead th {\n",
       "        text-align: right;\n",
       "    }\n",
       "</style>\n",
       "<table border=\"1\" class=\"dataframe\">\n",
       "  <thead>\n",
       "    <tr style=\"text-align: right;\">\n",
       "      <th></th>\n",
       "      <th>Fiscal_Year</th>\n",
       "      <th>Fiscal_Quarter</th>\n",
       "      <th>Business_Unit</th>\n",
       "      <th>Business_Unit_Descr</th>\n",
       "      <th>GAAP_Fund_Type</th>\n",
       "      <th>GAAP_Fund_Type_Descr</th>\n",
       "      <th>Fund_Code</th>\n",
       "      <th>Fund_Code_Descr</th>\n",
       "      <th>Budget_Ref</th>\n",
       "      <th>Budget_Ref_Descr</th>\n",
       "      <th>...</th>\n",
       "      <th>State_Function</th>\n",
       "      <th>State_Function_Descr</th>\n",
       "      <th>Primary_Account_Code</th>\n",
       "      <th>Primary_Account_Code_Descr</th>\n",
       "      <th>Intermediate_Account_Code</th>\n",
       "      <th>Intermediate_Account_Code_Descr</th>\n",
       "      <th>Detail_Account_Code</th>\n",
       "      <th>Detail_Account_Code_Descr</th>\n",
       "      <th>Total</th>\n",
       "      <th>Unnamed: 21</th>\n",
       "    </tr>\n",
       "  </thead>\n",
       "  <tbody>\n",
       "    <tr>\n",
       "      <th>16</th>\n",
       "      <td>2018</td>\n",
       "      <td>1</td>\n",
       "      <td>367</td>\n",
       "      <td>Kansas State University</td>\n",
       "      <td>12</td>\n",
       "      <td>Component Unit</td>\n",
       "      <td>3047</td>\n",
       "      <td>SMITH-LEVER SPEC PRG GRNT FDF</td>\n",
       "      <td>1330</td>\n",
       "      <td>SMITH-LEVER SPEC PRG GRNT FDF                 ...</td>\n",
       "      <td>...</td>\n",
       "      <td>26</td>\n",
       "      <td>Universities                                  ...</td>\n",
       "      <td>5100</td>\n",
       "      <td>SALARIES AND WAGES</td>\n",
       "      <td>51000</td>\n",
       "      <td>SALARIES AND WAGES</td>\n",
       "      <td>519800</td>\n",
       "      <td>UNEMPLOYMENT COMPENSATION</td>\n",
       "      <td>108.820</td>\n",
       "      <td>nan</td>\n",
       "    </tr>\n",
       "    <tr>\n",
       "      <th>17</th>\n",
       "      <td>2018</td>\n",
       "      <td>1</td>\n",
       "      <td>367</td>\n",
       "      <td>Kansas State University</td>\n",
       "      <td>12</td>\n",
       "      <td>Component Unit</td>\n",
       "      <td>3047</td>\n",
       "      <td>SMITH-LEVER SPEC PRG GRNT FDF</td>\n",
       "      <td>1330</td>\n",
       "      <td>SMITH-LEVER SPEC PRG GRNT FDF                 ...</td>\n",
       "      <td>...</td>\n",
       "      <td>26</td>\n",
       "      <td>Universities                                  ...</td>\n",
       "      <td>5100</td>\n",
       "      <td>SALARIES AND WAGES</td>\n",
       "      <td>51000</td>\n",
       "      <td>SALARIES AND WAGES</td>\n",
       "      <td>519700</td>\n",
       "      <td>WORKERS COMPENSATION</td>\n",
       "      <td>579.490</td>\n",
       "      <td>nan</td>\n",
       "    </tr>\n",
       "    <tr>\n",
       "      <th>18</th>\n",
       "      <td>2018</td>\n",
       "      <td>1</td>\n",
       "      <td>367</td>\n",
       "      <td>Kansas State University</td>\n",
       "      <td>12</td>\n",
       "      <td>Component Unit</td>\n",
       "      <td>3047</td>\n",
       "      <td>SMITH-LEVER SPEC PRG GRNT FDF</td>\n",
       "      <td>1330</td>\n",
       "      <td>SMITH-LEVER SPEC PRG GRNT FDF                 ...</td>\n",
       "      <td>...</td>\n",
       "      <td>26</td>\n",
       "      <td>Universities                                  ...</td>\n",
       "      <td>5100</td>\n",
       "      <td>SALARIES AND WAGES</td>\n",
       "      <td>51000</td>\n",
       "      <td>SALARIES AND WAGES</td>\n",
       "      <td>519500</td>\n",
       "      <td>GROUP HEALTH HOSPITALIZATION</td>\n",
       "      <td>27218.570</td>\n",
       "      <td>nan</td>\n",
       "    </tr>\n",
       "    <tr>\n",
       "      <th>19</th>\n",
       "      <td>2018</td>\n",
       "      <td>1</td>\n",
       "      <td>367</td>\n",
       "      <td>Kansas State University</td>\n",
       "      <td>12</td>\n",
       "      <td>Component Unit</td>\n",
       "      <td>3047</td>\n",
       "      <td>SMITH-LEVER SPEC PRG GRNT FDF</td>\n",
       "      <td>1330</td>\n",
       "      <td>SMITH-LEVER SPEC PRG GRNT FDF                 ...</td>\n",
       "      <td>...</td>\n",
       "      <td>26</td>\n",
       "      <td>Universities                                  ...</td>\n",
       "      <td>5100</td>\n",
       "      <td>SALARIES AND WAGES</td>\n",
       "      <td>51000</td>\n",
       "      <td>SALARIES AND WAGES</td>\n",
       "      <td>519102</td>\n",
       "      <td>OASDI</td>\n",
       "      <td>7518.460</td>\n",
       "      <td>nan</td>\n",
       "    </tr>\n",
       "    <tr>\n",
       "      <th>20</th>\n",
       "      <td>2018</td>\n",
       "      <td>1</td>\n",
       "      <td>367</td>\n",
       "      <td>Kansas State University</td>\n",
       "      <td>12</td>\n",
       "      <td>Component Unit</td>\n",
       "      <td>3047</td>\n",
       "      <td>SMITH-LEVER SPEC PRG GRNT FDF</td>\n",
       "      <td>1330</td>\n",
       "      <td>SMITH-LEVER SPEC PRG GRNT FDF                 ...</td>\n",
       "      <td>...</td>\n",
       "      <td>26</td>\n",
       "      <td>Universities                                  ...</td>\n",
       "      <td>5100</td>\n",
       "      <td>SALARIES AND WAGES</td>\n",
       "      <td>51000</td>\n",
       "      <td>SALARIES AND WAGES</td>\n",
       "      <td>519101</td>\n",
       "      <td>MEDICARE</td>\n",
       "      <td>3139.450</td>\n",
       "      <td>nan</td>\n",
       "    </tr>\n",
       "  </tbody>\n",
       "</table>\n",
       "<p>5 rows × 22 columns</p>\n",
       "</div>"
      ],
      "text/plain": [
       "    Fiscal_Year  Fiscal_Quarter  Business_Unit  \\\n",
       "16         2018               1            367   \n",
       "17         2018               1            367   \n",
       "18         2018               1            367   \n",
       "19         2018               1            367   \n",
       "20         2018               1            367   \n",
       "\n",
       "               Business_Unit_Descr  GAAP_Fund_Type  \\\n",
       "16  Kansas State University                     12   \n",
       "17  Kansas State University                     12   \n",
       "18  Kansas State University                     12   \n",
       "19  Kansas State University                     12   \n",
       "20  Kansas State University                     12   \n",
       "\n",
       "              GAAP_Fund_Type_Descr  Fund_Code                 Fund_Code_Descr  \\\n",
       "16  Component Unit                       3047  SMITH-LEVER SPEC PRG GRNT FDF    \n",
       "17  Component Unit                       3047  SMITH-LEVER SPEC PRG GRNT FDF    \n",
       "18  Component Unit                       3047  SMITH-LEVER SPEC PRG GRNT FDF    \n",
       "19  Component Unit                       3047  SMITH-LEVER SPEC PRG GRNT FDF    \n",
       "20  Component Unit                       3047  SMITH-LEVER SPEC PRG GRNT FDF    \n",
       "\n",
       "    Budget_Ref                                   Budget_Ref_Descr  ...  \\\n",
       "16        1330  SMITH-LEVER SPEC PRG GRNT FDF                 ...  ...   \n",
       "17        1330  SMITH-LEVER SPEC PRG GRNT FDF                 ...  ...   \n",
       "18        1330  SMITH-LEVER SPEC PRG GRNT FDF                 ...  ...   \n",
       "19        1330  SMITH-LEVER SPEC PRG GRNT FDF                 ...  ...   \n",
       "20        1330  SMITH-LEVER SPEC PRG GRNT FDF                 ...  ...   \n",
       "\n",
       "    State_Function                               State_Function_Descr  \\\n",
       "16              26  Universities                                  ...   \n",
       "17              26  Universities                                  ...   \n",
       "18              26  Universities                                  ...   \n",
       "19              26  Universities                                  ...   \n",
       "20              26  Universities                                  ...   \n",
       "\n",
       "    Primary_Account_Code Primary_Account_Code_Descr  \\\n",
       "16                  5100         SALARIES AND WAGES   \n",
       "17                  5100         SALARIES AND WAGES   \n",
       "18                  5100         SALARIES AND WAGES   \n",
       "19                  5100         SALARIES AND WAGES   \n",
       "20                  5100         SALARIES AND WAGES   \n",
       "\n",
       "    Intermediate_Account_Code Intermediate_Account_Code_Descr  \\\n",
       "16                      51000  SALARIES AND WAGES               \n",
       "17                      51000  SALARIES AND WAGES               \n",
       "18                      51000  SALARIES AND WAGES               \n",
       "19                      51000  SALARIES AND WAGES               \n",
       "20                      51000  SALARIES AND WAGES               \n",
       "\n",
       "    Detail_Account_Code       Detail_Account_Code_Descr     Total Unnamed: 21  \n",
       "16               519800  UNEMPLOYMENT COMPENSATION        108.820         nan  \n",
       "17               519700  WORKERS COMPENSATION             579.490         nan  \n",
       "18               519500  GROUP HEALTH HOSPITALIZATION   27218.570         nan  \n",
       "19               519102  OASDI                           7518.460         nan  \n",
       "20               519101  MEDICARE                        3139.450         nan  \n",
       "\n",
       "[5 rows x 22 columns]"
      ]
     },
     "execution_count": 197,
     "metadata": {},
     "output_type": "execute_result"
    }
   ],
   "source": [
    "ksuex1.head()"
   ]
  },
  {
   "cell_type": "code",
   "execution_count": 199,
   "metadata": {},
   "outputs": [
    {
     "data": {
      "text/plain": [
       "WORKERS COMPENSATION              576\n",
       "LEAVE PAYMENT ASSESSMENTS         575\n",
       "UNEMPLOYMENT COMPENSATION         542\n",
       "MEDICARE                          541\n",
       "OASDI                             534\n",
       "UNCLASSIFIED REGULAR              525\n",
       "UNCLASS HOLIDAY INCL IN BASE      510\n",
       "GROUP HEALTH HOSPITALIZATION      505\n",
       "EDUCATIONAL INST EE RETIRE SYS    474\n",
       "PARKING COMPENSATION REDUCTION    468\n",
       "STUDENT EMPLOYEES HOURLY          434\n",
       "PUBLIC EE RETIREMENT SYSTEM       384\n",
       "PRO SCIENTIFIC SUPPLY OTHER       366\n",
       "ED INST EE GRP LIFE DISABILITY    364\n",
       "OTHER FEES                        347\n",
       "INTERGOV OTHER COMM NOT OITS      328\n",
       "INTERGOV LCL COMM SVC NON OITS    325\n",
       "DATA PROCESSING SUPPLIES          325\n",
       "STATIONERY AND OFFICE SUPPLIES    313\n",
       "JOB RELATED TRAIN & CONF REG      312\n",
       "INTERGOV LD COMM SVC NOT OITS     306\n",
       "MEALS AND LODGING OUT STATE       300\n",
       "OTHER PROFESSIONAL FEES           299\n",
       "PRINT BIND STATE FACILITY ONLY    293\n",
       "AIR RAIL & BUS FARE OUT STATE     284\n",
       "UNCLASSIFIED TEMPORARY            275\n",
       "REPAIR AND SVC BLDG GROUND        272\n",
       "NON SUBSISTENCE OUT STATE         268\n",
       "INTERGOV POSTAGE NOT OITS         262\n",
       "OTHER EQUIP MATERIALS PARTS       255\n",
       "                                 ... \n",
       "DATA COMMUNICATIONS EQUIPMENT       5\n",
       "OFFICE EQUIPMENT                    5\n",
       "PROPERTY DAMAGE OR LOSS CLAIMS      5\n",
       "FED AID TO LOCAL GOVERNMENT         5\n",
       "MOVING OFFICE EQUIP SUPPLIES        5\n",
       "INTERGOV LD COMM SVC CAP OITS       4\n",
       "COMPUTER PROGRAMMING CAP OITS       4\n",
       "TELECOM SWITCHING NON CAP           4\n",
       "CLASSIFIED REGULAR                  4\n",
       "PRINCIPAL AND PREMIUMS              4\n",
       "INTERGOV LCL COMM SVC OP OITS       4\n",
       "DEPR LAND IMPROVEMENTS NON CAP      4\n",
       "INTERGOV LD COMM SVC OP OITS        4\n",
       "DATA COMM EQUIP NON CAP             4\n",
       "TRUCKS NON CAP                      3\n",
       "OFF CAMPUS WORK STUDY               3\n",
       "TELECOM TRANSMISSION NON CAP        3\n",
       "ACCOUNTANTS AND AUDITORS            3\n",
       "HOUSEHOLD EQUIPMENT                 3\n",
       "MOVING EE PERS EFFECTS OUT ST       3\n",
       "FCIP-PRINCIPAL-BI-C/I               3\n",
       "RETURN OF UNEXPENDED FED GRANT      2\n",
       "ASSESSMENTS FOR IMPROVEMENTS        2\n",
       "TELECOM SWITCHING EQUIPMENT         2\n",
       "NATIONAL DIRECT STUDENT LOANS       2\n",
       "OTHER CLAIMS                        2\n",
       "ADVERTISING AND MARKETING           2\n",
       "OTHER MISC ADVANCES                 2\n",
       "RADIO EQUIP PORTABLE NON CAP        2\n",
       "MOVING EE PERS EFFECTS IN ST        1\n",
       "Name: Detail_Account_Code_Descr, Length: 217, dtype: int64"
      ]
     },
     "execution_count": 199,
     "metadata": {},
     "output_type": "execute_result"
    }
   ],
   "source": [
    "ksuex.Detail_Account_Code_Descr.value_counts()"
   ]
  },
  {
   "cell_type": "code",
   "execution_count": 194,
   "metadata": {},
   "outputs": [],
   "source": [
    "kuex[\"Primary_Account_Code_Descr\"] = kuex[\"Primary_Account_Code_Descr\"].str.strip()"
   ]
  },
  {
   "cell_type": "code",
   "execution_count": 195,
   "metadata": {},
   "outputs": [],
   "source": [
    "kuex1 = kuex[kuex.Primary_Account_Code_Descr == \"SALARIES AND WAGES\"]"
   ]
  },
  {
   "cell_type": "code",
   "execution_count": 212,
   "metadata": {},
   "outputs": [
    {
     "name": "stdout",
     "output_type": "stream",
     "text": [
      "<class 'pandas.core.frame.DataFrame'>\n",
      "RangeIndex: 10553 entries, 0 to 10552\n",
      "Data columns (total 22 columns):\n",
      "Fiscal_Year                        10553 non-null int64\n",
      "Fiscal_Quarter                     10553 non-null int64\n",
      "Business_Unit                      10553 non-null int64\n",
      "Business_Unit_Descr                10553 non-null object\n",
      "GAAP_Fund_Type                     10553 non-null int64\n",
      "GAAP_Fund_Type_Descr               10553 non-null object\n",
      "Fund_Code                          10553 non-null int64\n",
      "Fund_Code_Descr                    10553 non-null object\n",
      "Budget_Ref                         10553 non-null int64\n",
      "Budget_Ref_Descr                   10553 non-null object\n",
      "Program_Code                       10553 non-null int64\n",
      "Program_Code_Descr                 10553 non-null object\n",
      "State_Function                     10553 non-null int64\n",
      "State_Function_Descr               10553 non-null object\n",
      "Primary_Account_Code               10553 non-null int64\n",
      "Primary_Account_Code_Descr         10553 non-null object\n",
      "Intermediate_Account_Code          10553 non-null int64\n",
      "Intermediate_Account_Code_Descr    10553 non-null object\n",
      "Detail_Account_Code                10553 non-null int64\n",
      "Detail_Account_Code_Descr          10553 non-null object\n",
      "Total                              10553 non-null float64\n",
      "Unnamed: 21                        0 non-null float64\n",
      "dtypes: float64(2), int64(11), object(9)\n",
      "memory usage: 1.8+ MB\n"
     ]
    }
   ],
   "source": [
    "kuex.info()"
   ]
  },
  {
   "cell_type": "code",
   "execution_count": 204,
   "metadata": {},
   "outputs": [
    {
     "data": {
      "text/plain": [
       "OTHER FEES                        235\n",
       "WORKERS COMPENSATION              225\n",
       "LEAVE PAYMENT ASSESSMENTS         225\n",
       "MEDICARE                          219\n",
       "OASDI                             219\n",
       "UNEMPLOYMENT COMPENSATION         219\n",
       "UNCLASSIFIED REGULAR              213\n",
       "EDUCATIONAL INST EE RETIRE SYS    208\n",
       "GROUP HEALTH HOSPITALIZATION      207\n",
       "UNCLASS HOLIDAY INCL IN BASE      197\n",
       "PARKING COMPENSATION REDUCTION    179\n",
       "STUDENT EMPLOYEES HOURLY          160\n",
       "ED INST EE GRP LIFE DISABILITY    156\n",
       "PUBLIC EE RETIREMENT SYSTEM       154\n",
       "PRO SCIENTIFIC SUPPLY OTHER       134\n",
       "STATIONERY AND OFFICE SUPPLIES    131\n",
       "CLASSIFIED REGULAR                126\n",
       "DATA PROCESSING SUPPLIES          126\n",
       "OTHER PROFESSIONAL FEES           121\n",
       "PRINTING AND COPYING              115\n",
       "BLDGS AND GROUNDS MATERIALS       113\n",
       "CLASS HOLIDAY INCL IN BASE        112\n",
       "MEALS AND LODGING OUT STATE       112\n",
       "JOB RELATED TRAIN & CONF REG      110\n",
       "UNCLASS HOL NOT INCL IN BASE      109\n",
       "NON SUBSISTENCE OUT STATE         105\n",
       "UNCLASSIFIED TEMPORARY            105\n",
       "MICROCOMPUTER EQUIP NON CAP       104\n",
       "AIR RAIL & BUS FARE OUT STATE     103\n",
       "HOUSEHOLD SUPPLIES                101\n",
       "                                 ... \n",
       "OTHER EQUIPMENT                     2\n",
       "LAND RENTAL                         2\n",
       "SELF PROP SVC WASH                  2\n",
       "TELECOM TRANSMISSION NON CAP        2\n",
       "HEALTH PROFESSION STUDENT LOAN      2\n",
       "DATA COMM EQUIP NON CAP             2\n",
       "HYDRAULIC OIL                       2\n",
       "BIO-DIESEL                          2\n",
       "AG EQUIP AND MACHINERY              2\n",
       "FCIP-PRINCIPAL-BI-C/I               1\n",
       "ADVERTISING AND MARKETING           1\n",
       "FCIP-INTEREST-BI-C/I                1\n",
       "SELF PROP TIRE REPAIR INSTALL       1\n",
       "INTERGOV POSTAGE OP OITS            1\n",
       "PASSENGER CARS- NON-INVENTORY       1\n",
       "LAB RANDOM ALCOHOL TEST             1\n",
       "STATE CAR EXPENSE-INTERNATL         1\n",
       "RETURN OF UNEXPENDED FED GRANT      1\n",
       "TRUCKS NON CAP                      1\n",
       "ATTORNEYS AND LAWYERS               1\n",
       "HOSPITALS AND NURSING HOMES         1\n",
       "SELF PROPELLED EQUIP NON CAP        1\n",
       "TELECOM SWITCHING NON CAP           1\n",
       "ASSIGNED COUNSEL-CNTRCT LAWYER      1\n",
       "INTERGOV LCL COMM SVC OP OITS       1\n",
       "LOAN INTEREST                       1\n",
       "MOVING EE PERS EFFECTS IN ST        1\n",
       "OTHER CLAIMS                        1\n",
       "ER KPERS WAR 3RD PTY/CNSLNT         1\n",
       "ENROLL FEES SPONS INST GRANT        1\n",
       "Name: Detail_Account_Code_Descr, Length: 242, dtype: int64"
      ]
     },
     "execution_count": 204,
     "metadata": {},
     "output_type": "execute_result"
    }
   ],
   "source": [
    "kuex.Detail_Account_Code_Descr.value_counts()"
   ]
  },
  {
   "cell_type": "markdown",
   "metadata": {},
   "source": [
    "<b>Answer:</b> See the breakdown."
   ]
  },
  {
   "cell_type": "markdown",
   "metadata": {},
   "source": [
    "### Q10: Compare the breakdown costs from Q9 side by side.\n",
    "When you merge the two subsets, make sure to add the attribute <b>how =\"outer\"</b> so that you can keep every item from both sets.\n",
    "*For example: merge = pd.merge(df1, df2, how=\"outer\", on=\"columnname\")"
   ]
  },
  {
   "cell_type": "code",
   "execution_count": 213,
   "metadata": {},
   "outputs": [],
   "source": [
    "merged = pd.merge(ksuex, kuex, how=\"outer\", on=\"Detail_Account_Code_Descr\")"
   ]
  },
  {
   "cell_type": "code",
   "execution_count": 211,
   "metadata": {},
   "outputs": [
    {
     "data": {
      "text/html": [
       "<div>\n",
       "<style scoped>\n",
       "    .dataframe tbody tr th:only-of-type {\n",
       "        vertical-align: middle;\n",
       "    }\n",
       "\n",
       "    .dataframe tbody tr th {\n",
       "        vertical-align: top;\n",
       "    }\n",
       "\n",
       "    .dataframe thead th {\n",
       "        text-align: right;\n",
       "    }\n",
       "</style>\n",
       "<table border=\"1\" class=\"dataframe\">\n",
       "  <thead>\n",
       "    <tr style=\"text-align: right;\">\n",
       "      <th></th>\n",
       "      <th>Fiscal_Year_x</th>\n",
       "      <th>Fiscal_Quarter_x</th>\n",
       "      <th>Business_Unit_x</th>\n",
       "      <th>Business_Unit_Descr_x</th>\n",
       "      <th>GAAP_Fund_Type_x</th>\n",
       "      <th>GAAP_Fund_Type_Descr_x</th>\n",
       "      <th>Fund_Code_x</th>\n",
       "      <th>Fund_Code_Descr_x</th>\n",
       "      <th>Budget_Ref_x</th>\n",
       "      <th>Budget_Ref_Descr_x</th>\n",
       "      <th>...</th>\n",
       "      <th>Program_Code_Descr_y</th>\n",
       "      <th>State_Function_y</th>\n",
       "      <th>State_Function_Descr_y</th>\n",
       "      <th>Primary_Account_Code_y</th>\n",
       "      <th>Primary_Account_Code_Descr_y</th>\n",
       "      <th>Intermediate_Account_Code_y</th>\n",
       "      <th>Intermediate_Account_Code_Descr_y</th>\n",
       "      <th>Detail_Account_Code_y</th>\n",
       "      <th>Total_y</th>\n",
       "      <th>Unnamed: 21_y</th>\n",
       "    </tr>\n",
       "  </thead>\n",
       "  <tbody>\n",
       "    <tr>\n",
       "      <th>0</th>\n",
       "      <td>2018.000</td>\n",
       "      <td>1.000</td>\n",
       "      <td>367.000</td>\n",
       "      <td>Kansas State University</td>\n",
       "      <td>12.000</td>\n",
       "      <td>Component Unit</td>\n",
       "      <td>3047.000</td>\n",
       "      <td>SMITH-LEVER SPEC PRG GRNT FDF</td>\n",
       "      <td>1330.000</td>\n",
       "      <td>SMITH-LEVER SPEC PRG GRNT FDF                 ...</td>\n",
       "      <td>...</td>\n",
       "      <td>Institutional Support</td>\n",
       "      <td>26.000</td>\n",
       "      <td>Universities                                  ...</td>\n",
       "      <td>5200.000</td>\n",
       "      <td>CONTRACTUAL SERVICES</td>\n",
       "      <td>52520.000</td>\n",
       "      <td>OUT OF STATE TRAVEL &amp; SUBSIST</td>\n",
       "      <td>525280.000</td>\n",
       "      <td>21013.130</td>\n",
       "      <td>nan</td>\n",
       "    </tr>\n",
       "    <tr>\n",
       "      <th>1</th>\n",
       "      <td>2018.000</td>\n",
       "      <td>1.000</td>\n",
       "      <td>367.000</td>\n",
       "      <td>Kansas State University</td>\n",
       "      <td>12.000</td>\n",
       "      <td>Component Unit</td>\n",
       "      <td>3047.000</td>\n",
       "      <td>SMITH-LEVER SPEC PRG GRNT FDF</td>\n",
       "      <td>1330.000</td>\n",
       "      <td>SMITH-LEVER SPEC PRG GRNT FDF                 ...</td>\n",
       "      <td>...</td>\n",
       "      <td>Instructional Services</td>\n",
       "      <td>26.000</td>\n",
       "      <td>Universities                                  ...</td>\n",
       "      <td>5200.000</td>\n",
       "      <td>CONTRACTUAL SERVICES</td>\n",
       "      <td>52520.000</td>\n",
       "      <td>OUT OF STATE TRAVEL &amp; SUBSIST</td>\n",
       "      <td>525280.000</td>\n",
       "      <td>155011.470</td>\n",
       "      <td>nan</td>\n",
       "    </tr>\n",
       "    <tr>\n",
       "      <th>2</th>\n",
       "      <td>2018.000</td>\n",
       "      <td>1.000</td>\n",
       "      <td>367.000</td>\n",
       "      <td>Kansas State University</td>\n",
       "      <td>12.000</td>\n",
       "      <td>Component Unit</td>\n",
       "      <td>3047.000</td>\n",
       "      <td>SMITH-LEVER SPEC PRG GRNT FDF</td>\n",
       "      <td>1330.000</td>\n",
       "      <td>SMITH-LEVER SPEC PRG GRNT FDF                 ...</td>\n",
       "      <td>...</td>\n",
       "      <td>Academic Support</td>\n",
       "      <td>26.000</td>\n",
       "      <td>Universities                                  ...</td>\n",
       "      <td>5200.000</td>\n",
       "      <td>CONTRACTUAL SERVICES</td>\n",
       "      <td>52520.000</td>\n",
       "      <td>OUT OF STATE TRAVEL &amp; SUBSIST</td>\n",
       "      <td>525280.000</td>\n",
       "      <td>31037.660</td>\n",
       "      <td>nan</td>\n",
       "    </tr>\n",
       "    <tr>\n",
       "      <th>3</th>\n",
       "      <td>2018.000</td>\n",
       "      <td>1.000</td>\n",
       "      <td>367.000</td>\n",
       "      <td>Kansas State University</td>\n",
       "      <td>12.000</td>\n",
       "      <td>Component Unit</td>\n",
       "      <td>3047.000</td>\n",
       "      <td>SMITH-LEVER SPEC PRG GRNT FDF</td>\n",
       "      <td>1330.000</td>\n",
       "      <td>SMITH-LEVER SPEC PRG GRNT FDF                 ...</td>\n",
       "      <td>...</td>\n",
       "      <td>Student Services</td>\n",
       "      <td>26.000</td>\n",
       "      <td>Universities                                  ...</td>\n",
       "      <td>5200.000</td>\n",
       "      <td>CONTRACTUAL SERVICES</td>\n",
       "      <td>52520.000</td>\n",
       "      <td>OUT OF STATE TRAVEL &amp; SUBSIST</td>\n",
       "      <td>525280.000</td>\n",
       "      <td>21234.330</td>\n",
       "      <td>nan</td>\n",
       "    </tr>\n",
       "    <tr>\n",
       "      <th>4</th>\n",
       "      <td>2018.000</td>\n",
       "      <td>1.000</td>\n",
       "      <td>367.000</td>\n",
       "      <td>Kansas State University</td>\n",
       "      <td>12.000</td>\n",
       "      <td>Component Unit</td>\n",
       "      <td>3047.000</td>\n",
       "      <td>SMITH-LEVER SPEC PRG GRNT FDF</td>\n",
       "      <td>1330.000</td>\n",
       "      <td>SMITH-LEVER SPEC PRG GRNT FDF                 ...</td>\n",
       "      <td>...</td>\n",
       "      <td>Research</td>\n",
       "      <td>26.000</td>\n",
       "      <td>Universities                                  ...</td>\n",
       "      <td>5200.000</td>\n",
       "      <td>CONTRACTUAL SERVICES</td>\n",
       "      <td>52520.000</td>\n",
       "      <td>OUT OF STATE TRAVEL &amp; SUBSIST</td>\n",
       "      <td>525280.000</td>\n",
       "      <td>42265.500</td>\n",
       "      <td>nan</td>\n",
       "    </tr>\n",
       "  </tbody>\n",
       "</table>\n",
       "<p>5 rows × 43 columns</p>\n",
       "</div>"
      ],
      "text/plain": [
       "   Fiscal_Year_x  Fiscal_Quarter_x  Business_Unit_x  \\\n",
       "0       2018.000             1.000          367.000   \n",
       "1       2018.000             1.000          367.000   \n",
       "2       2018.000             1.000          367.000   \n",
       "3       2018.000             1.000          367.000   \n",
       "4       2018.000             1.000          367.000   \n",
       "\n",
       "            Business_Unit_Descr_x  GAAP_Fund_Type_x  \\\n",
       "0  Kansas State University                   12.000   \n",
       "1  Kansas State University                   12.000   \n",
       "2  Kansas State University                   12.000   \n",
       "3  Kansas State University                   12.000   \n",
       "4  Kansas State University                   12.000   \n",
       "\n",
       "           GAAP_Fund_Type_Descr_x  Fund_Code_x  \\\n",
       "0  Component Unit                     3047.000   \n",
       "1  Component Unit                     3047.000   \n",
       "2  Component Unit                     3047.000   \n",
       "3  Component Unit                     3047.000   \n",
       "4  Component Unit                     3047.000   \n",
       "\n",
       "                Fund_Code_Descr_x  Budget_Ref_x  \\\n",
       "0  SMITH-LEVER SPEC PRG GRNT FDF       1330.000   \n",
       "1  SMITH-LEVER SPEC PRG GRNT FDF       1330.000   \n",
       "2  SMITH-LEVER SPEC PRG GRNT FDF       1330.000   \n",
       "3  SMITH-LEVER SPEC PRG GRNT FDF       1330.000   \n",
       "4  SMITH-LEVER SPEC PRG GRNT FDF       1330.000   \n",
       "\n",
       "                                  Budget_Ref_Descr_x  ...  \\\n",
       "0  SMITH-LEVER SPEC PRG GRNT FDF                 ...  ...   \n",
       "1  SMITH-LEVER SPEC PRG GRNT FDF                 ...  ...   \n",
       "2  SMITH-LEVER SPEC PRG GRNT FDF                 ...  ...   \n",
       "3  SMITH-LEVER SPEC PRG GRNT FDF                 ...  ...   \n",
       "4  SMITH-LEVER SPEC PRG GRNT FDF                 ...  ...   \n",
       "\n",
       "             Program_Code_Descr_y State_Function_y  \\\n",
       "0  Institutional Support                    26.000   \n",
       "1  Instructional Services                   26.000   \n",
       "2  Academic Support                         26.000   \n",
       "3  Student Services                         26.000   \n",
       "4  Research                                 26.000   \n",
       "\n",
       "                              State_Function_Descr_y Primary_Account_Code_y  \\\n",
       "0  Universities                                  ...               5200.000   \n",
       "1  Universities                                  ...               5200.000   \n",
       "2  Universities                                  ...               5200.000   \n",
       "3  Universities                                  ...               5200.000   \n",
       "4  Universities                                  ...               5200.000   \n",
       "\n",
       "   Primary_Account_Code_Descr_y Intermediate_Account_Code_y  \\\n",
       "0          CONTRACTUAL SERVICES                   52520.000   \n",
       "1          CONTRACTUAL SERVICES                   52520.000   \n",
       "2          CONTRACTUAL SERVICES                   52520.000   \n",
       "3          CONTRACTUAL SERVICES                   52520.000   \n",
       "4          CONTRACTUAL SERVICES                   52520.000   \n",
       "\n",
       "   Intermediate_Account_Code_Descr_y Detail_Account_Code_y    Total_y  \\\n",
       "0     OUT OF STATE TRAVEL & SUBSIST             525280.000  21013.130   \n",
       "1     OUT OF STATE TRAVEL & SUBSIST             525280.000 155011.470   \n",
       "2     OUT OF STATE TRAVEL & SUBSIST             525280.000  31037.660   \n",
       "3     OUT OF STATE TRAVEL & SUBSIST             525280.000  21234.330   \n",
       "4     OUT OF STATE TRAVEL & SUBSIST             525280.000  42265.500   \n",
       "\n",
       "  Unnamed: 21_y  \n",
       "0           nan  \n",
       "1           nan  \n",
       "2           nan  \n",
       "3           nan  \n",
       "4           nan  \n",
       "\n",
       "[5 rows x 43 columns]"
      ]
     },
     "execution_count": 211,
     "metadata": {},
     "output_type": "execute_result"
    }
   ],
   "source": [
    "merged.head()"
   ]
  },
  {
   "cell_type": "markdown",
   "metadata": {},
   "source": [
    "<b>Answer:</b>"
   ]
  },
  {
   "cell_type": "markdown",
   "metadata": {},
   "source": [
    "## III. BONUS QUESTIONS\n",
    "* Each question's worth 15 points.\n"
   ]
  },
  {
   "cell_type": "markdown",
   "metadata": {},
   "source": [
    "### B1: Which university made a profit in the fiscal year of 2018?"
   ]
  },
  {
   "cell_type": "code",
   "execution_count": 218,
   "metadata": {},
   "outputs": [
    {
     "data": {
      "text/plain": [
       "-164259729.17999995"
      ]
     },
     "execution_count": 218,
     "metadata": {},
     "output_type": "execute_result"
    }
   ],
   "source": [
    "854324643.84-1018584373.02"
   ]
  },
  {
   "cell_type": "code",
   "execution_count": 219,
   "metadata": {},
   "outputs": [
    {
     "data": {
      "text/plain": [
       "-181470973.05999994"
      ]
     },
     "execution_count": 219,
     "metadata": {},
     "output_type": "execute_result"
    }
   ],
   "source": [
    "808767902.55-990238875.6099999"
   ]
  },
  {
   "cell_type": "markdown",
   "metadata": {},
   "source": [
    "<b>Answer:</b> Neither of the universities made a profit in teh fiscal year in 2018."
   ]
  },
  {
   "cell_type": "markdown",
   "metadata": {},
   "source": [
    "### B2: Which software program do you like the most in this course? Why?"
   ]
  },
  {
   "cell_type": "markdown",
   "metadata": {},
   "source": [
    "<b>Answer:</b> I like python the best because I have used it previously, although it was on IDLE. Other than Python I do like tableau because I feel as though I got the most out of it, especially since I used it in both my group and individual projects. I was able to create graphics that showed the outcome of data I had received."
   ]
  },
  {
   "cell_type": "markdown",
   "metadata": {},
   "source": [
    "### END OF THE TEST"
   ]
  }
 ],
 "metadata": {
  "kernelspec": {
   "display_name": "Python 2",
   "language": "python",
   "name": "python2"
  },
  "language_info": {
   "codemirror_mode": {
    "name": "ipython",
    "version": 2
   },
   "file_extension": ".py",
   "mimetype": "text/x-python",
   "name": "python",
   "nbconvert_exporter": "python",
   "pygments_lexer": "ipython2",
   "version": "2.7.10"
  }
 },
 "nbformat": 4,
 "nbformat_minor": 2
}
